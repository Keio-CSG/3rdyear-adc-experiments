{
 "cells": [
  {
   "cell_type": "code",
   "execution_count": 3,
   "metadata": {},
   "outputs": [],
   "source": [
    "from WF_SDK import device, logic, pattern   # import instruments\n",
    "import matplotlib.pyplot as plt   # needed for plotting"
   ]
  },
  {
   "cell_type": "code",
   "execution_count": 4,
   "metadata": {},
   "outputs": [],
   "source": [
    "# connect to the device\n",
    "device_data = device.open()"
   ]
  },
  {
   "cell_type": "code",
   "execution_count": 5,
   "metadata": {},
   "outputs": [],
   "source": [
    "# initialize the logic analyzer with default settings\n",
    "logic.open(device_data)"
   ]
  },
  {
   "cell_type": "code",
   "execution_count": 6,
   "metadata": {},
   "outputs": [],
   "source": [
    "# generate a 100KHz PWM signal with 30% duty cycle on DIO0\n",
    "pattern.generate(device_data, channel=0, function=pattern.function.pulse, frequency=100e03, duty_cycle=30)"
   ]
  },
  {
   "cell_type": "code",
   "execution_count": 7,
   "metadata": {},
   "outputs": [
    {
     "data": {
      "image/png": "[encoded data removed]",
      "text/plain": [
       "<Figure size 432x288 with 1 Axes>"
      ]
     },
     "metadata": {
      "needs_background": "light"
     },
     "output_type": "display_data"
    }
   ],
   "source": [
    "# record a logic signal on DIO0\n",
    "buffer, time = logic.record(device_data, channel=0)\n",
    " \n",
    "# plot\n",
    "time = [moment * 1e06 for moment in time]   # convert time to μs\n",
    "plt.plot(time, buffer)\n",
    "plt.xlabel(\"time [μs]\")\n",
    "plt.ylabel(\"logic value\")\n",
    "plt.yticks([0, 1])\n",
    "plt.show()\n",
    " \n",
    "# reset the logic analyzer\n",
    "logic.close(device_data)\n",
    " \n",
    "# reset the pattern generator\n",
    "pattern.close(device_data)"
   ]
  },
  {
   "cell_type": "code",
   "execution_count": null,
   "metadata": {},
   "outputs": [],
   "source": []
  }
 ],
 "metadata": {
  "kernelspec": {
   "display_name": "Python 3.7.10 ('pytorch')",
   "language": "python",
   "name": "python3"
  },
  "language_info": {
   "codemirror_mode": {
    "name": "ipython",
    "version": 3
   },
   "file_extension": ".py",
   "mimetype": "text/x-python",
   "name": "python",
   "nbconvert_exporter": "python",
   "pygments_lexer": "ipython3",
   "version": "3.7.10"
  },
  "orig_nbformat": 4,
  "vscode": {
   "interpreter": {
    "hash": "08258e7919826ba5eddd4f6562e975318b6a55f3823e3049b45016e7861790cc"
   }
  }
 },
 "nbformat": 4,
 "nbformat_minor": 2
}
